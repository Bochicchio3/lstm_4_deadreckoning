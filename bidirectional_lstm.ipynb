# %%


from __future__ import absolute_import, division, print_function, unicode_literals

import collections
import matplotlib.pyplot as plt
import numpy as np
import os 

import tensorflow as tf

from tensorflow.keras import layers

# %%

# READ THE DATA

os.chdir('/home/alfredo/Desktop/PROJECTS/indoor_mapping/Oxford Inertial Odometry Dataset_2.0(1)/Oxford Inertial Odometry Dataset/handheld/data1/syn/')

imu1 = np.genfromtxt('imu1.csv', delimiter=',')
vi1 = np.genfromtxt('vi1.csv', delimiter=',')





#%%



model = tf.keras.Sequential()

model.add(layers.Bidirectional(layers.LSTM(64, return_sequences=True), 
                               input_shape=(200, 6)))
model.add(layers.Dense(2))

model.summary()



model.compile(optimizer='adam', loss='mse', metrics=['accuracy'])




# %%
